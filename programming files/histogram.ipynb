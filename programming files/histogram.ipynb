{
 "cells": [
  {
   "cell_type": "code",
   "execution_count": null,
   "metadata": {},
   "outputs": [],
   "source": [
    "import numpy as np\n",
    "import cv2\n",
    "import matplotlib.pyplot as plt\n",
    "\n",
    "def histogram(f):\n",
    "    if f.ndim != 3:\n",
    "        hist = cv2.calcHist([f],[0],None,[256],[0,256])\n",
    "        plt.plot(hist)\n",
    "    else:\n",
    "        color = ('b','g','r')\n",
    "        for i, col in enumerate(color):\n",
    "            hist = cv2.calcHist(f,[i],None,[256],[0,256])\n",
    "            plt.plot(hist,color=col)\n",
    "    plt.xlim([0,256])\n",
    "    plt.xlabel(\"Intensity\")\n",
    "    plt.ylabel(\"#Intensities\")\n",
    "    plt.show()\n",
    "\n",
    "def main():\n",
    "    img = cv2.imread(\"Museum.bmp\",0)\n",
    "    img1 = cv2.equalizeHist(img)\n",
    "    cv2.imshow(\"Original Image\",img)\n",
    "    cv2.imshow(\"After Image\",img1)\n",
    "    histogram(img1)\n",
    "    cv2.waitKey(0)\n",
    "\n",
    "main()"
   ]
  },
  {
   "cell_type": "code",
   "execution_count": null,
   "metadata": {},
   "outputs": [],
   "source": []
  },
  {
   "cell_type": "code",
   "execution_count": null,
   "metadata": {},
   "outputs": [],
   "source": []
  },
  {
   "cell_type": "code",
   "execution_count": null,
   "metadata": {},
   "outputs": [],
   "source": []
  },
  {
   "cell_type": "code",
   "execution_count": null,
   "metadata": {},
   "outputs": [],
   "source": []
  }
 ],
 "metadata": {
  "kernelspec": {
   "display_name": "Python 3",
   "language": "python",
   "name": "python3"
  },
  "language_info": {
   "codemirror_mode": {
    "name": "ipython",
    "version": 3
   },
   "file_extension": ".py",
   "mimetype": "text/x-python",
   "name": "python",
   "nbconvert_exporter": "python",
   "pygments_lexer": "ipython3",
   "version": "3.7.7"
  }
 },
 "nbformat": 4,
 "nbformat_minor": 4
}

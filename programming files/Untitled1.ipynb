{
 "cells": [
  {
   "cell_type": "code",
   "execution_count": null,
   "id": "105d4855",
   "metadata": {},
   "outputs": [],
   "source": [
    "import numpy as np\n",
    "import cv2\n",
    "\n",
    "def image_formation_model(f, x0, y0, sigma):\n",
    "    g = f.copy();\n",
    "    nr,nc = f.shape[:2]\n",
    "    illumination = np.zero([nr, nc],dtype = 'float32')\n",
    "    for x in range(nr):\n",
    "        for y in range(nc):\n",
    "            illumination[x,y] = np.exp( -(x-x0) ** 2 + (y-y0) ** 2) / (2 * sigma * sigma))\n",
    "    for x in range(nr):\n",
    "        for y in range(nc):\n",
    "            for k in range(3) "
   ]
  }
 ],
 "metadata": {
  "kernelspec": {
   "display_name": "Python 3 (ipykernel)",
   "language": "python",
   "name": "python3"
  },
  "language_info": {
   "codemirror_mode": {
    "name": "ipython",
    "version": 3
   },
   "file_extension": ".py",
   "mimetype": "text/x-python",
   "name": "python",
   "nbconvert_exporter": "python",
   "pygments_lexer": "ipython3",
   "version": "3.11.5"
  }
 },
 "nbformat": 4,
 "nbformat_minor": 5
}

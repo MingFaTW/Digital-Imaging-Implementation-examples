{
 "cells": [
  {
   "cell_type": "code",
   "execution_count": 7,
   "metadata": {},
   "outputs": [
    {
     "name": "stdout",
     "output_type": "stream",
     "text": [
      "Bilinear Interpolation:\n",
      "the mse value is: 33.56556701660156\n",
      "the psnr value is: 32.87186372832708\n",
      "Bicubic interpolation:\n",
      "the mse value is: 32.49882888793945\n",
      "the psnr value is: 33.01212649632711\n"
     ]
    },
    {
     "data": {
      "text/plain": [
       "-1"
      ]
     },
     "execution_count": 7,
     "metadata": {},
     "output_type": "execute_result"
    }
   ],
   "source": [
    "import numpy as np\n",
    "import cv2\n",
    "\n",
    "img = cv2.imread(\"Lenna.bmp\",0)\n",
    "nr1,nc1 = img.shape[:2]\n",
    "nr2,nc2 = nr1//4,nc1//4\n",
    "\n",
    "def mse(image1, image2):\n",
    "    return np.sum((image1 - image2) ** 2) / float(image1.shape[0] * image1.shape[1])\n",
    "    \n",
    "\n",
    "def psnr(image1, image2, max_pixel=255.0):\n",
    "    mse_value = mse(image1, image2)\n",
    "    if mse_value == 0:\n",
    "        return float('inf')  # PSNR is infinite if MSE is zero.\n",
    "    return 10 * np.log10((max_pixel ** 2) / mse_value)\n",
    "\n",
    "img1 = cv2.resize(img,(nr2,nc2),interpolation = cv2.INTER_LINEAR)\n",
    "img1 = cv2.resize(img1,(nr1,nc1),interpolation = cv2.INTER_LINEAR)\n",
    "img2 = cv2.resize(img,(nr2,nc2),interpolation = cv2.INTER_CUBIC)\n",
    "img2 = cv2.resize(img2,(nr1,nc1),interpolation = cv2.INTER_CUBIC)\n",
    "\n",
    "\n",
    "print(\"Bilinear Interpolation:\")\n",
    "mse_value = mse(img,img1)\n",
    "psnr_value = psnr(img,img1)\n",
    "print(f\"the mse value is: {mse_value}\")\n",
    "print(f\"the psnr value is: {psnr_value}\")\n",
    "\n",
    "print(\"Bicubic interpolation:\")\n",
    "mse_value = mse(img,img2)\n",
    "psnr_value = psnr(img,img2)\n",
    "print(f\"the mse value is: {mse_value}\")\n",
    "print(f\"the psnr value is: {psnr_value}\")\n",
    "\n",
    "\n",
    "cv2.imshow(\"Original Image\",img)\n",
    "cv2.imshow(\"Bilinear Interpolation\",img1)\n",
    "cv2.imshow(\"Bicubic interpolation\",img2)\n",
    "cv2.waitKey(0)"
   ]
  },
  {
   "cell_type": "code",
   "execution_count": null,
   "metadata": {},
   "outputs": [],
   "source": []
  },
  {
   "cell_type": "code",
   "execution_count": null,
   "metadata": {},
   "outputs": [],
   "source": []
  },
  {
   "cell_type": "code",
   "execution_count": null,
   "metadata": {},
   "outputs": [],
   "source": []
  }
 ],
 "metadata": {
  "kernelspec": {
   "display_name": "Python 3",
   "language": "python",
   "name": "python3"
  },
  "language_info": {
   "codemirror_mode": {
    "name": "ipython",
    "version": 3
   },
   "file_extension": ".py",
   "mimetype": "text/x-python",
   "name": "python",
   "nbconvert_exporter": "python",
   "pygments_lexer": "ipython3",
   "version": "3.7.7"
  }
 },
 "nbformat": 4,
 "nbformat_minor": 5
}

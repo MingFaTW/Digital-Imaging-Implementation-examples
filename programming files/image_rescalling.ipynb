{
 "cells": [
  {
   "cell_type": "code",
   "execution_count": null,
   "id": "7272aacd",
   "metadata": {},
   "outputs": [],
   "source": [
    "import numpy as np\n",
    "import cv2\n",
    "\n",
    "img = cv2.imread(\"Baboon.bmp\",0)\n",
    "nr1,nc1 = img.shape[:2]\n",
    "nr2,nc2 = nr1//4,nc1//4\n",
    "img1 = cv2.resize(img,(nr2,nc2),interpolation = cv2.INTER_NEAREST)\n",
    "img1 = cv2.resize(img1,(nr1,nc1),interpolation = cv2.INTER_NEAREST)\n",
    "img2 = cv2.resize(img,(nr2,nc2),interpolation = cv2.INTER_LINEAR)\n",
    "img2 = cv2.resize(img2,(nr1,nc1),interpolation = cv2.INTER_NEAREST)\n",
    "img3 = cv2.resize(img,(nr2,nc2),interpolation = cv2.INTER_CUBIC)\n",
    "img3 = cv2.resize(img,(nr1,nc1),interpolation = cv2.INTER_NEAREST)\n",
    "cv2.imshow(\"Original Image\",img)\n",
    "cv2.imshow(\"Nearest Neighbor\",img1)\n",
    "cv2.imshow(\"Bilinear\",img2)\n",
    "cv2.imshow(\"Bicubic\",img3)\n",
    "cv2.waitKey(0)"
   ]
  },
  {
   "cell_type": "code",
   "execution_count": null,
   "id": "5ef0c243",
   "metadata": {},
   "outputs": [],
   "source": []
  },
  {
   "cell_type": "code",
   "execution_count": null,
   "id": "879657e3",
   "metadata": {},
   "outputs": [],
   "source": []
  }
 ],
 "metadata": {
  "kernelspec": {
   "display_name": "Python 3 (ipykernel)",
   "language": "python",
   "name": "python3"
  },
  "language_info": {
   "codemirror_mode": {
    "name": "ipython",
    "version": 3
   },
   "file_extension": ".py",
   "mimetype": "text/x-python",
   "name": "python",
   "nbconvert_exporter": "python",
   "pygments_lexer": "ipython3",
   "version": "3.11.5"
  }
 },
 "nbformat": 4,
 "nbformat_minor": 5
}

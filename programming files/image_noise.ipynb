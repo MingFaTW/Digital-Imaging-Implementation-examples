{
 "cells": [
  {
   "cell_type": "code",
   "execution_count": null,
   "metadata": {},
   "outputs": [],
   "source": [
    "import numpy as np\n",
    "import cv2\n",
    "from numpy.random import uniform, normal, exponential, rayleigh\n",
    "import matplotlib.pyplot as plt\n",
    "def uniform_noise(f,scale):\n",
    "    g = f.copy()\n",
    "    nr, nc = f.shape[:2]\n",
    "    for x in range(nr):\n",
    "        for y in range(nc):\n",
    "            value = f[x,y]+uniform(0,1)*scale\n",
    "            g[x,y] = np.unint8(np.clip(value,0,255))\n",
    "    return g\n",
    "def gaussian_noise(f,scale):\n",
    "    g = f.copy()\n",
    "    nr, nc = f.shape[:2]\n",
    "    for x in range(nr):\n",
    "        for y in range(nc):\n",
    "            value = f[x,y]+normal(0,scale)\n",
    "            g[x,y] = np.unint8(np.clip(value,0,255))\n",
    "    return g\n",
    "\n",
    "def main():\n",
    "     "
   ]
  }
 ],
 "metadata": {
  "kernelspec": {
   "display_name": "Python 3",
   "language": "python",
   "name": "python3"
  },
  "language_info": {
   "codemirror_mode": {
    "name": "ipython",
    "version": 3
   },
   "file_extension": ".py",
   "mimetype": "text/x-python",
   "name": "python",
   "nbconvert_exporter": "python",
   "pygments_lexer": "ipython3",
   "version": "3.7.7"
  }
 },
 "nbformat": 4,
 "nbformat_minor": 4
}

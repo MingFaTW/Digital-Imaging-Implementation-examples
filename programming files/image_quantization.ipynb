{
 "cells": [
  {
   "cell_type": "code",
   "execution_count": null,
   "id": "090c3119",
   "metadata": {},
   "outputs": [],
   "source": [
    "import numpy as np\n",
    "import cv2\n",
    "\n",
    "def image_quantization(f,bits):\n",
    "    g = f.copy()\n",
    "    nr, nc = f.shape[:2]\n",
    "    levels = 2 ** bits\n",
    "    interval = 256/levels\n",
    "    gray_level_interval = 255/(levels-1)\n",
    "    table = np.zeros(256)\n",
    "    for k in range(256):\n",
    "        for l in range(levels):\n",
    "            if k>=l * interval and l <(l+l) * interval:\n",
    "                table[k] = round(l * gray_level_interval)\n",
    "    for x in range(nr):\n",
    "        for y in range(nc):\n",
    "            g[x,y] = np.uint8(table[f[x,y]])\n",
    "    return g\n",
    "\n",
    "def main():\n",
    "    img1 = cv2.imread(\"Lenna.bmp\",-1)\n",
    "    img2 = image_quantization(img1,1)\n",
    "    cv2.imshow(\"Original Image\",img1)\n",
    "    cv2.imshow(\"Quantization\",img2)\n",
    "    cv2.waitKey(0)\n",
    "main()"
   ]
  },
  {
   "cell_type": "code",
   "execution_count": null,
   "id": "0b84d1f0",
   "metadata": {},
   "outputs": [],
   "source": []
  }
 ],
 "metadata": {
  "kernelspec": {
   "display_name": "Python 3 (ipykernel)",
   "language": "python",
   "name": "python3"
  },
  "language_info": {
   "codemirror_mode": {
    "name": "ipython",
    "version": 3
   },
   "file_extension": ".py",
   "mimetype": "text/x-python",
   "name": "python",
   "nbconvert_exporter": "python",
   "pygments_lexer": "ipython3",
   "version": "3.11.5"
  }
 },
 "nbformat": 4,
 "nbformat_minor": 5
}

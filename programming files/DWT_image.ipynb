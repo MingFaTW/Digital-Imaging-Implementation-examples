{
 "cells": [
  {
   "cell_type": "code",
   "execution_count": null,
   "metadata": {},
   "outputs": [],
   "source": [
    "import numpy as np\n",
    "import cv2\n",
    "import pywt\n",
    "\n",
    "def DWT_image(f,wavelet):\n",
    "    nr,nc = f.shape[:2]\n",
    "    coeffs = pywt.dwt2(f,wavelet)\n",
    "    LL,(LH,HL,HH)=coeffs\n",
    "    \n",
    "    nr1,nc1 = LL.shape[:2]\n",
    "    g = np.zeros([nr1*2,nc1*2],dtype = 'uint8')\n",
    "    \n",
    "    LL_normalized = np.zeros([nr1,nc1])\n",
    "    cv2.normalize(LL,LL_normalized,0,255,cv2.NORM_MINMAX)\n",
    "    g[0:nr1,0:nc1] = np.uint8(LL_normalized[:,:])\n",
    "    \n",
    "    g[0:nr1,nc1:2*nc1] = np.uint8(np.clip(LH+128,0,255))\n",
    "    g[nr1:2*nr1,0:nc1] = np.uint8(np.clip(HL+128,0,255))\n",
    "    g[nr1:2*nr1,nc1:nc1*2] = np.uint8(np.clip(HH+128,0,255))\n",
    "    \n",
    "    return g\n",
    "\n",
    "def main():\n",
    "    img1 = cv2.imread(\"House.bmp\",-1)\n",
    "    img2 = DWT_image(img1,'db1')\n",
    "    cv2.imshow(\"Original Image\",img1)\n",
    "    cv2.imshow(\"Discrete Wavelet Transform\",img2)\n",
    "    cv2.waitKey(0)\n",
    "\n",
    "main()"
   ]
  },
  {
   "cell_type": "code",
   "execution_count": null,
   "metadata": {},
   "outputs": [],
   "source": []
  },
  {
   "cell_type": "code",
   "execution_count": null,
   "metadata": {},
   "outputs": [],
   "source": []
  },
  {
   "cell_type": "code",
   "execution_count": null,
   "metadata": {},
   "outputs": [],
   "source": []
  }
 ],
 "metadata": {
  "kernelspec": {
   "display_name": "Python 3",
   "language": "python",
   "name": "python3"
  },
  "language_info": {
   "codemirror_mode": {
    "name": "ipython",
    "version": 3
   },
   "file_extension": ".py",
   "mimetype": "text/x-python",
   "name": "python",
   "nbconvert_exporter": "python",
   "pygments_lexer": "ipython3",
   "version": "3.7.7"
  }
 },
 "nbformat": 4,
 "nbformat_minor": 4
}

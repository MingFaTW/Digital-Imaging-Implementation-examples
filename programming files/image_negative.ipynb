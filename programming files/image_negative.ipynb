{
 "cells": [
  {
   "cell_type": "code",
   "execution_count": 1,
   "metadata": {},
   "outputs": [],
   "source": [
    "import numpy as np\n",
    "import cv2\n",
    "\n",
    "def image_negative(f):\n",
    "    g = 255-f\n",
    "    return g\n",
    "\n",
    "def RGB_model(f,channel):\n",
    "    if channel == 1:\n",
    "        return f[:,:,2]\n",
    "    if channel == 2:\n",
    "        return f[:,:,1]\n",
    "    else:\n",
    "        return f[:,:,0]\n",
    "    \n",
    "\n",
    "def main():\n",
    "    img1 = cv2.imread(\"Lenna.bmp\",-1)\n",
    "    img2 = image_negative(img1)\n",
    "    img3 = cv2.imread(\"Baboon.bmp\",-1)\n",
    "    R = RGB_model(img3,1)\n",
    "    G = RGB_model(img3,2)\n",
    "    B = RGB_model(img3,3)\n",
    "    \n",
    "    R_1 = image_negative(R)\n",
    "    G_1 = image_negative(G)\n",
    "    B_1 = image_negative(B)\n",
    "    #cv2.imshow(\"Original Image\",img1)\n",
    "    #cv2.imshow(\"Image Negative\",img2)\n",
    "    cv2.imshow(\"R\",R)\n",
    "    cv2.imshow(\"G\",G)\n",
    "    cv2.imshow(\"B\",B)\n",
    "    cv2.imshow(\"Image Negative R\",R_1)\n",
    "    cv2.imshow(\"Image Negative G\",G_1)\n",
    "    cv2.imshow(\"Image Negative B\",B_1)\n",
    "    cv2.waitKey(0)\n",
    "\n",
    "main()\n",
    "    \n"
   ]
  },
  {
   "cell_type": "code",
   "execution_count": null,
   "metadata": {},
   "outputs": [],
   "source": []
  }
 ],
 "metadata": {
  "kernelspec": {
   "display_name": "Python 3",
   "language": "python",
   "name": "python3"
  },
  "language_info": {
   "codemirror_mode": {
    "name": "ipython",
    "version": 3
   },
   "file_extension": ".py",
   "mimetype": "text/x-python",
   "name": "python",
   "nbconvert_exporter": "python",
   "pygments_lexer": "ipython3",
   "version": "3.7.7"
  }
 },
 "nbformat": 4,
 "nbformat_minor": 4
}

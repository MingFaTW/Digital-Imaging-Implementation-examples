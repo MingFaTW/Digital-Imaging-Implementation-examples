{
 "cells": [
  {
   "cell_type": "code",
   "execution_count": 1,
   "metadata": {},
   "outputs": [
    {
     "name": "stdout",
     "output_type": "stream",
     "text": [
      "Haar Wavelet\n",
      "DWT Coefficients:  [15.55634919  7.07106781  5.65685425 11.3137085 ] [ 4.24264069  1.41421356 -1.41421356  1.41421356]\n",
      "Reconstruction [14.  8.  6.  4.  3.  5.  9.  7.]\n"
     ]
    }
   ],
   "source": [
    "import numpy as np\n",
    "import pywt\n",
    "\n",
    "f = np.array([14,8,6,4,3,5,9,7])\n",
    "\n",
    "print(\"Haar Wavelet\")\n",
    "cA,cD = pywt.dwt(f,'db1')\n",
    "print(\"DWT Coefficients: \",cA,cD)\n",
    "fp = pywt.idwt(cA,cD,'db1')\n",
    "print(\"Reconstruction\",fp)"
   ]
  },
  {
   "cell_type": "code",
   "execution_count": null,
   "metadata": {},
   "outputs": [],
   "source": []
  }
 ],
 "metadata": {
  "kernelspec": {
   "display_name": "Python 3",
   "language": "python",
   "name": "python3"
  },
  "language_info": {
   "codemirror_mode": {
    "name": "ipython",
    "version": 3
   },
   "file_extension": ".py",
   "mimetype": "text/x-python",
   "name": "python",
   "nbconvert_exporter": "python",
   "pygments_lexer": "ipython3",
   "version": "3.7.7"
  }
 },
 "nbformat": 4,
 "nbformat_minor": 4
}

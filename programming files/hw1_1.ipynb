{
 "cells": [
  {
   "cell_type": "code",
   "execution_count": 2,
   "metadata": {},
   "outputs": [],
   "source": [
    "import numpy as np\n",
    "import cv2\n",
    "\n",
    "def image_formation_model(f, x0, y0, sigma):\n",
    "    g = f.copy()\n",
    "    nr,nc = f.shape[:2]\n",
    "    illumination = np.zeros([nr,nc],dtype='float32')\n",
    "    for x in range(nr):\n",
    "        for y in range(nc):\n",
    "            illumination[x,y] = np.exp( -((x-x0) ** 2 + (y-y0) ** 2) / (2 * sigma * sigma))\n",
    "    \n",
    "    for x in range(nr):\n",
    "        for y in range(nc):\n",
    "            for k in range(3):\n",
    "                val = round(illumination[x,y]*f[x,y,k])\n",
    "                g[x,y,k]=np.uint8(val)\n",
    "    return g\n",
    "\n",
    "def main():\n",
    "    img = cv2.imread(\"Baboon.bmp\",-1)\n",
    "    nr,nc = img.shape[:2]\n",
    "    x0 = nr // 2\n",
    "    y0 = nc // 2\n",
    "    sigma = 400\n",
    "    img2 = image_formation_model(img, x0, y0, sigma)\n",
    "    cv2.imshow(\"Original Image\",img)\n",
    "    cv2.imshow(\"Image Formation Model\",img2)\n",
    "    cv2.waitKey(0)\n",
    "    \n",
    "main()\n",
    "    "
   ]
  },
  {
   "cell_type": "code",
   "execution_count": null,
   "metadata": {},
   "outputs": [],
   "source": []
  },
  {
   "cell_type": "code",
   "execution_count": null,
   "metadata": {},
   "outputs": [],
   "source": []
  },
  {
   "cell_type": "code",
   "execution_count": null,
   "metadata": {},
   "outputs": [],
   "source": []
  }
 ],
 "metadata": {
  "kernelspec": {
   "display_name": "Python 3",
   "language": "python",
   "name": "python3"
  },
  "language_info": {
   "codemirror_mode": {
    "name": "ipython",
    "version": 3
   },
   "file_extension": ".py",
   "mimetype": "text/x-python",
   "name": "python",
   "nbconvert_exporter": "python",
   "pygments_lexer": "ipython3",
   "version": "3.7.7"
  }
 },
 "nbformat": 4,
 "nbformat_minor": 5
}
